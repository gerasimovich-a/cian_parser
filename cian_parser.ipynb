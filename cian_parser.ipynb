{
 "cells": [
  {
   "cell_type": "code",
   "execution_count": 1,
   "id": "ca6439ff",
   "metadata": {},
   "outputs": [],
   "source": [
    "from selenium import webdriver\n",
    "from bs4 import BeautifulSoup\n",
    "from selenium.webdriver.common.by import By\n",
    "\n",
    "import time\n",
    "import random\n",
    "import re\n",
    "\n",
    "import pandas as pd"
   ]
  },
  {
   "cell_type": "code",
   "execution_count": 2,
   "id": "7ae6b8d7",
   "metadata": {},
   "outputs": [],
   "source": [
    "result = {}\n",
    "page = 0\n",
    "count = 0"
   ]
  },
  {
   "cell_type": "code",
   "execution_count": 3,
   "id": "a5695237",
   "metadata": {},
   "outputs": [],
   "source": [
    "def parse_cian_with_defined_params(rooms_count=1):\n",
    "    driver = webdriver.Chrome()\n",
    "    #оставляем слип на открытие страницы\n",
    "    time.sleep(2)\n",
    "    result = {}\n",
    "    page = 1\n",
    "    count = 0\n",
    "    driver.get(f'https://www.cian.ru/cat.php?deal_type=sale&engine_version=2&offer_type=flat&p={page}&region=1&room{rooms_count}=1')\n",
    "    time.sleep(2)\n",
    "    while True:\n",
    "#         driver.execute_script(\"window.scrollTo(0, document.body.scrollHeight);\")\n",
    "#         time.sleep(random.uniform(1,2))\n",
    "        time.sleep(1)\n",
    "        soup = BeautifulSoup(driver.page_source,'lxml')\n",
    "\n",
    "        #тут карточки всех объектов недвиги\n",
    "    #     for i in soup.find_all('div','_93444fe79c--card--ibP42 _93444fe79c--wide--gEKNN'):\n",
    "        for i in soup.find_all('div','_93444fe79c--card--ibP42'):\n",
    "            # i - карточка отдельного объекта\n",
    "            result[count] = {}\n",
    "\n",
    "            link = i.find('a', '_93444fe79c--link--eoxce')\n",
    "            result[count]['link'] = link['href']\n",
    "\n",
    "            title = i.find('span',{'data-mark':'OfferTitle'})\n",
    "            result[count]['title'] = title.text\n",
    "\n",
    "            try:\n",
    "                subtitle = i.find('span',{'data-mark':'OfferSubtitle'})\n",
    "                result[count]['subtitle'] = subtitle.text\n",
    "            except:\n",
    "                pass\n",
    "\n",
    "            try:\n",
    "                deadline = i.find('span', {'data-mark':'Deadline'})\n",
    "                result[count]['deadline'] = deadline.text\n",
    "            except:\n",
    "                pass\n",
    "\n",
    "            try:\n",
    "                metro = i.find('a','_93444fe79c--link--BwwJO')\n",
    "                result[count]['metro'] = metro.text\n",
    "                metro_remote = i.find('div','_93444fe79c--remoteness--q8IXp')\n",
    "                result[count]['metro_remote'] = metro_remote.text\n",
    "\n",
    "            except:\n",
    "                pass\n",
    "\n",
    "            geo = i.find('div','_93444fe79c--labels--L8WyJ')\n",
    "            result[count]['geo'] = geo.text\n",
    "\n",
    "            main_price = i.find('span',{'data-mark':'MainPrice'})\n",
    "            result[count]['main_price'] = int(re.sub(' ', '',main_price.text[:-2]))\n",
    "            if main_price.text[-1] == '₽':\n",
    "                currency = 'rouble'\n",
    "            else:\n",
    "                currency = 'other'\n",
    "            result[count]['currency'] = currency\n",
    "\n",
    "            price_for_sq_m = i.find('p',{'data-mark':'PriceInfo'})\n",
    "            result[count]['price_for_sq_m'] = int(re.sub(' ', '',price_for_sq_m.text[:-5]))\n",
    "\n",
    "            count += 1\n",
    "\n",
    "        if soup.find_all('div',{'data-name':'Suggestions'}) == []:\n",
    "            page += 1\n",
    "            driver.get(f'https://www.cian.ru/cat.php?deal_type=sale&engine_version=2&offer_type=flat&p={page}&region=1&room{rooms_count}=1')\n",
    "#             time.sleep(random.uniform(1,3))\n",
    "            time.sleep(1)\n",
    "        else:\n",
    "            print('цикл остановлен')\n",
    "            driver.quit()\n",
    "            return result\n"
   ]
  },
  {
   "cell_type": "code",
   "execution_count": 4,
   "id": "113533d2",
   "metadata": {},
   "outputs": [
    {
     "name": "stdout",
     "output_type": "stream",
     "text": [
      "цикл остановлен\n"
     ]
    },
    {
     "ename": "KeyboardInterrupt",
     "evalue": "",
     "output_type": "error",
     "traceback": [
      "\u001b[1;31m---------------------------------------------------------------------------\u001b[0m",
      "\u001b[1;31mKeyboardInterrupt\u001b[0m                         Traceback (most recent call last)",
      "File \u001b[1;32m<timed exec>:2\u001b[0m, in \u001b[0;36m<module>\u001b[1;34m\u001b[0m\n",
      "Input \u001b[1;32mIn [3]\u001b[0m, in \u001b[0;36mparse_cian_with_defined_params\u001b[1;34m(rooms_count)\u001b[0m\n\u001b[0;32m      6\u001b[0m     count \u001b[38;5;241m=\u001b[39m \u001b[38;5;241m0\u001b[39m\n\u001b[0;32m      7\u001b[0m     driver\u001b[38;5;241m.\u001b[39mget(\u001b[38;5;124mf\u001b[39m\u001b[38;5;124m'\u001b[39m\u001b[38;5;124mhttps://www.cian.ru/cat.php?deal_type=sale&engine_version=2&offer_type=flat&p=\u001b[39m\u001b[38;5;132;01m{\u001b[39;00mpage\u001b[38;5;132;01m}\u001b[39;00m\u001b[38;5;124m&region=1&room\u001b[39m\u001b[38;5;132;01m{\u001b[39;00mrooms_count\u001b[38;5;132;01m}\u001b[39;00m\u001b[38;5;124m=1\u001b[39m\u001b[38;5;124m'\u001b[39m)\n\u001b[1;32m----> 8\u001b[0m     \u001b[43mtime\u001b[49m\u001b[38;5;241;43m.\u001b[39;49m\u001b[43msleep\u001b[49m\u001b[43m(\u001b[49m\u001b[43mrandom\u001b[49m\u001b[38;5;241;43m.\u001b[39;49m\u001b[43muniform\u001b[49m\u001b[43m(\u001b[49m\u001b[38;5;241;43m2\u001b[39;49m\u001b[43m,\u001b[49m\u001b[38;5;241;43m4\u001b[39;49m\u001b[43m)\u001b[49m\u001b[43m)\u001b[49m\n\u001b[0;32m      9\u001b[0m     \u001b[38;5;28;01mwhile\u001b[39;00m \u001b[38;5;28;01mTrue\u001b[39;00m:\n\u001b[0;32m     10\u001b[0m \u001b[38;5;66;03m#         driver.execute_script(\"window.scrollTo(0, document.body.scrollHeight);\")\u001b[39;00m\n\u001b[0;32m     11\u001b[0m \u001b[38;5;66;03m#         time.sleep(random.uniform(1,2))\u001b[39;00m\n\u001b[0;32m     12\u001b[0m         time\u001b[38;5;241m.\u001b[39msleep(\u001b[38;5;241m1\u001b[39m)\n",
      "\u001b[1;31mKeyboardInterrupt\u001b[0m: "
     ]
    }
   ],
   "source": [
    "%%time\n",
    "room_1 = parse_cian_with_defined_params(rooms_count=1)\n",
    "room_2 = parse_cian_with_defined_params(rooms_count=2)\n",
    "room_3 = parse_cian_with_defined_params(rooms_count=3)\n",
    "room_4 = parse_cian_with_defined_params(rooms_count=4)\n",
    "room_5 = parse_cian_with_defined_params(rooms_count=5)\n",
    "room_6 = parse_cian_with_defined_params(rooms_count=6)\n",
    "room_stud = parse_cian_with_defined_params(rooms_count=9)"
   ]
  },
  {
   "cell_type": "code",
   "execution_count": 5,
   "id": "7bac5617",
   "metadata": {},
   "outputs": [
    {
     "ename": "SyntaxError",
     "evalue": "invalid syntax (2938429678.py, line 1)",
     "output_type": "error",
     "traceback": [
      "\u001b[1;36m  Input \u001b[1;32mIn [5]\u001b[1;36m\u001b[0m\n\u001b[1;33m    ***\u001b[0m\n\u001b[1;37m    ^\u001b[0m\n\u001b[1;31mSyntaxError\u001b[0m\u001b[1;31m:\u001b[0m invalid syntax\n"
     ]
    }
   ],
   "source": [
    "***"
   ]
  },
  {
   "cell_type": "code",
   "execution_count": null,
   "id": "5b8d379a",
   "metadata": {},
   "outputs": [],
   "source": [
    "result = pd.concat([\n",
    "    pd.DataFrame(room_1).T,\n",
    "    pd.DataFrame(room_2).T,\n",
    "    pd.DataFrame(room_3).T,\n",
    "    pd.DataFrame(room_4).T,\n",
    "    pd.DataFrame(room_5).T,\n",
    "    pd.DataFrame(room_6).T,\n",
    "    pd.DataFrame(room_stud).T\n",
    "])\n",
    "result"
   ]
  },
  {
   "cell_type": "code",
   "execution_count": null,
   "id": "27b927d0",
   "metadata": {},
   "outputs": [],
   "source": [
    "result = result.drop_duplicates().reset_index(drop=True)\n",
    "result"
   ]
  },
  {
   "cell_type": "code",
   "execution_count": null,
   "id": "e24dfbd9",
   "metadata": {},
   "outputs": [],
   "source": [
    "result.drop('link', axis=1).drop_duplicates()"
   ]
  },
  {
   "cell_type": "code",
   "execution_count": null,
   "id": "fe781a58",
   "metadata": {},
   "outputs": [],
   "source": [
    "result[result['main_price'] < 10_000_000].sort_values('price_for_sq_m').head(20)"
   ]
  },
  {
   "cell_type": "code",
   "execution_count": null,
   "id": "0891bd4f",
   "metadata": {},
   "outputs": [],
   "source": [
    "result.to_json('cian.json')"
   ]
  },
  {
   "cell_type": "code",
   "execution_count": null,
   "id": "09c6cd4c",
   "metadata": {},
   "outputs": [],
   "source": [
    "***"
   ]
  }
 ],
 "metadata": {
  "kernelspec": {
   "display_name": "Python 3 (ipykernel)",
   "language": "python",
   "name": "python3"
  },
  "language_info": {
   "codemirror_mode": {
    "name": "ipython",
    "version": 3
   },
   "file_extension": ".py",
   "mimetype": "text/x-python",
   "name": "python",
   "nbconvert_exporter": "python",
   "pygments_lexer": "ipython3",
   "version": "3.9.13"
  }
 },
 "nbformat": 4,
 "nbformat_minor": 5
}
